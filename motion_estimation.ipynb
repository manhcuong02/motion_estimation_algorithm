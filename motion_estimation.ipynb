{
 "cells": [
  {
   "cell_type": "code",
   "execution_count": 23,
   "metadata": {},
   "outputs": [],
   "source": [
    "import numpy as np\n",
    "import cv2 as cv\n",
    "import matplotlib.pyplot as plt\n",
    "from typing import *\n",
    "from numpy._typing import * \n"
   ]
  },
  {
   "cell_type": "code",
   "execution_count": 24,
   "metadata": {},
   "outputs": [],
   "source": [
    "def split_image_into_blocks(image: ArrayLike, block_size: Any) -> ArrayLike:\n",
    "    if isinstance(block_size,int):\n",
    "        block_height =  block_width = block_size\n",
    "    else : \n",
    "        assert len(block_size) == 2 \n",
    "        block_height, block_width = block_size\n",
    "    height, width = image.shape[:2]\n",
    "    \n",
    "    n_blocks_height = height // block_height\n",
    "    n_blocks_width = width // block_width\n",
    "    blocks = np.zeros((n_blocks_height, n_blocks_width, block_height, block_width), dtype=image.dtype)\n",
    "    for i in range(n_blocks_height):\n",
    "        for j in range(n_blocks_width):\n",
    "            block = image[i*block_height:(i+1)*block_height, j*block_width:(j+1)*block_width]\n",
    "            blocks[i, j] = block\n",
    "    return blocks\n"
   ]
  },
  {
   "cell_type": "code",
   "execution_count": 25,
   "metadata": {},
   "outputs": [],
   "source": [
    "def get_block_center(i :int, j: int, block_size: Any):\n",
    "    if isinstance(block_size,int):\n",
    "        block_height =  block_width = block_size\n",
    "    else : \n",
    "        assert len(block_size) == 2 \n",
    "        block_height, block_width = block_size\n",
    "    \n",
    "    return (round(block_height*(i+0.5) - 0.5),\n",
    "            round(block_width*(j+0.5) - 0.5))"
   ]
  },
  {
   "cell_type": "code",
   "execution_count": 26,
   "metadata": {},
   "outputs": [],
   "source": [
    "def Calculate_SAD(block1: np.ndarray, block2: np.ndarray):\n",
    "    \n",
    "    return np.sum(np.abs(block1 - block2))"
   ]
  },
  {
   "cell_type": "code",
   "execution_count": 27,
   "metadata": {},
   "outputs": [],
   "source": [
    "def pad_zeros_around_image(image: np.ndarray, pad_size: int or Tuple[int, int]) -> ArrayLike:\n",
    "    \n",
    "    if isinstance(pad_size,int):\n",
    "        pad_size_height =  pad_size_width = pad_size\n",
    "    else : \n",
    "        assert len(pad_size) == 2 \n",
    "        pad_size_height, pad_size_width = pad_size\n",
    "    \n",
    "    new_image = np.zeros((image.shape[0] + 2*pad_size_height, image.shape[1] + 2*pad_size_width))\n",
    "    \n",
    "    new_image[pad_size_height : new_image.shape[0] - pad_size_height, pad_size_width : new_image.shape[1] - pad_size_width] = image\n",
    "    \n",
    "    return new_image.astype(np.uint8)"
   ]
  },
  {
   "cell_type": "code",
   "execution_count": 40,
   "metadata": {},
   "outputs": [],
   "source": [
    "def calculate_sad_with_surrounding_blocks(frame: np.ndarray, block: np.ndarray, start: Tuple[int, int], end = None, stride = 1) -> ArrayLike:\n",
    "    assert len(start) == 2 \n",
    "    block_height, block_width = block.shape\n",
    "    start_height, start_width = start\n",
    "    if end is None:\n",
    "        end_height, end_width = start_height + block_height, start_width + block_width\n",
    "    else: \n",
    "        assert len(end) == 2  \n",
    "        end_height, end_width = end\n",
    "    sad = []\n",
    "    \n",
    "    pad_size_height, pad_size_width = pad_size = block_height//2, block_width//2\n",
    "    \n",
    "    padded_img = pad_zeros_around_image(frame, pad_size)\n",
    "    \n",
    "    for i in range(start_height + pad_size_height, end_height + pad_size_width, stride):\n",
    "        for j in range(start_width + pad_size_width, end_width + pad_size_width, stride):\n",
    "            sad.append(\n",
    "                Calculate_SAD(\n",
    "                    padded_img[i - block_height//2 : i + block_height//2 , j - block_width//2 : j + block_width//2],\n",
    "                    block\n",
    "                )\n",
    "            )\n",
    "    \n",
    "    sad = np.array(sad).reshape(block.shape)\n",
    "    min_sad = np.min(sad)\n",
    "    idx_sad = np.where(\n",
    "        min_sad == sad\n",
    "    )\n",
    "    \n",
    "    center_block_in_next_frame = start_height + block_height//2, start_width + block_width//2\n",
    "    center_prev_block_in_current_frame = start_height + idx_sad[0][0], start_width + idx_sad[1][0]\n",
    "    return center_prev_block_in_current_frame, center_block_in_next_frame"
   ]
  },
  {
   "cell_type": "code",
   "execution_count": 41,
   "metadata": {},
   "outputs": [],
   "source": [
    "def sliding_window_blocks(frame: np.ndarray, blocks: np.ndarray) -> ArrayLike:\n",
    "    n_blocks_height, n_blocks_width, block_height, block_width = blocks.shape\n",
    "    \n",
    "    motion_vectors = []\n",
    "    \n",
    "    for i in range(n_blocks_height):\n",
    "        for j in range(n_blocks_width):\n",
    "            center_prev_block_in_current_frame, center_block_in_next_frame = calculate_sad_with_surrounding_blocks(\n",
    "                frame, blocks[i,j], start = (i * block_height ,j * block_width)\n",
    "            )\n",
    "\n",
    "            vector = {\n",
    "                # 'coordinates_block': (i,j),\n",
    "                'start_point': center_prev_block_in_current_frame,\n",
    "                'end_point': center_block_in_next_frame\n",
    "            }\n",
    "            \n",
    "            motion_vectors.append(vector)\n",
    "\n",
    "    return motion_vectors"
   ]
  },
  {
   "cell_type": "code",
   "execution_count": 47,
   "metadata": {},
   "outputs": [
    {
     "ename": "TypeError",
     "evalue": "typing.Union[numpy._typing._array_like._SupportsArray[numpy.dtype], numpy._typing._nested_sequence._NestedSequence[numpy._typing._array_like._SupportsArray[numpy.dtype]], bool, int, float, complex, str, bytes, numpy._typing._nested_sequence._NestedSequence[typing.Union[bool, int, float, complex, str, bytes]]] is not a generic class",
     "output_type": "error",
     "traceback": [
      "\u001b[1;31m---------------------------------------------------------------------------\u001b[0m",
      "\u001b[1;31mTypeError\u001b[0m                                 Traceback (most recent call last)",
      "Cell \u001b[1;32mIn[47], line 1\u001b[0m\n\u001b[1;32m----> 1\u001b[0m \u001b[39mdef\u001b[39;00m \u001b[39mvisualize_motion_vectors\u001b[39m(frame: np\u001b[39m.\u001b[39mndarray, motion_vectors: ArrayLike[Dict[\u001b[39mstr\u001b[39;49m, \u001b[39mint\u001b[39;49m]]):\n\u001b[0;32m      2\u001b[0m     vectors_map \u001b[39m=\u001b[39m np\u001b[39m.\u001b[39mzeros_like(frame)\n\u001b[0;32m      4\u001b[0m     \u001b[39mfor\u001b[39;00m vector \u001b[39min\u001b[39;00m motion_vectors:\n",
      "File \u001b[1;32m~\\AppData\\Local\\Programs\\Python\\Python38\\lib\\typing.py:261\u001b[0m, in \u001b[0;36m_tp_cache.<locals>.inner\u001b[1;34m(*args, **kwds)\u001b[0m\n\u001b[0;32m    259\u001b[0m \u001b[39mexcept\u001b[39;00m \u001b[39mTypeError\u001b[39;00m:\n\u001b[0;32m    260\u001b[0m     \u001b[39mpass\u001b[39;00m  \u001b[39m# All real errors (not unhashable args) are raised below.\u001b[39;00m\n\u001b[1;32m--> 261\u001b[0m \u001b[39mreturn\u001b[39;00m func(\u001b[39m*\u001b[39;49margs, \u001b[39m*\u001b[39;49m\u001b[39m*\u001b[39;49mkwds)\n",
      "File \u001b[1;32m~\\AppData\\Local\\Programs\\Python\\Python38\\lib\\typing.py:686\u001b[0m, in \u001b[0;36m_GenericAlias.__getitem__\u001b[1;34m(self, params)\u001b[0m\n\u001b[0;32m    684\u001b[0m msg \u001b[39m=\u001b[39m \u001b[39m\"\u001b[39m\u001b[39mParameters to generic types must be types.\u001b[39m\u001b[39m\"\u001b[39m\n\u001b[0;32m    685\u001b[0m params \u001b[39m=\u001b[39m \u001b[39mtuple\u001b[39m(_type_check(p, msg) \u001b[39mfor\u001b[39;00m p \u001b[39min\u001b[39;00m params)\n\u001b[1;32m--> 686\u001b[0m _check_generic(\u001b[39mself\u001b[39;49m, params)\n\u001b[0;32m    687\u001b[0m \u001b[39mreturn\u001b[39;00m _subs_tvars(\u001b[39mself\u001b[39m, \u001b[39mself\u001b[39m\u001b[39m.\u001b[39m__parameters__, params)\n",
      "File \u001b[1;32md:\\BT_TTDPT\\venv\\lib\\site-packages\\typing_extensions.py:100\u001b[0m, in \u001b[0;36m_check_generic\u001b[1;34m(cls, parameters, elen)\u001b[0m\n\u001b[0;32m     98\u001b[0m \u001b[39mif\u001b[39;00m elen \u001b[39mis\u001b[39;00m _marker:\n\u001b[0;32m     99\u001b[0m     \u001b[39mif\u001b[39;00m \u001b[39mnot\u001b[39;00m \u001b[39mhasattr\u001b[39m(\u001b[39mcls\u001b[39m, \u001b[39m\"\u001b[39m\u001b[39m__parameters__\u001b[39m\u001b[39m\"\u001b[39m) \u001b[39mor\u001b[39;00m \u001b[39mnot\u001b[39;00m \u001b[39mcls\u001b[39m\u001b[39m.\u001b[39m__parameters__:\n\u001b[1;32m--> 100\u001b[0m         \u001b[39mraise\u001b[39;00m \u001b[39mTypeError\u001b[39;00m(\u001b[39mf\u001b[39m\u001b[39m\"\u001b[39m\u001b[39m{\u001b[39;00m\u001b[39mcls\u001b[39m\u001b[39m}\u001b[39;00m\u001b[39m is not a generic class\u001b[39m\u001b[39m\"\u001b[39m)\n\u001b[0;32m    101\u001b[0m     elen \u001b[39m=\u001b[39m \u001b[39mlen\u001b[39m(\u001b[39mcls\u001b[39m\u001b[39m.\u001b[39m__parameters__)\n\u001b[0;32m    102\u001b[0m alen \u001b[39m=\u001b[39m \u001b[39mlen\u001b[39m(parameters)\n",
      "\u001b[1;31mTypeError\u001b[0m: typing.Union[numpy._typing._array_like._SupportsArray[numpy.dtype], numpy._typing._nested_sequence._NestedSequence[numpy._typing._array_like._SupportsArray[numpy.dtype]], bool, int, float, complex, str, bytes, numpy._typing._nested_sequence._NestedSequence[typing.Union[bool, int, float, complex, str, bytes]]] is not a generic class"
     ]
    }
   ],
   "source": [
    "def visualize_motion_vectors(frame: np.ndarray, motion_vectors: ArrayLike) -> ArrayLike:\n",
    "    vectors_map = np.zeros_like(frame)\n",
    "    \n",
    "    for vector in motion_vectors:\n",
    "        start_point = vector['start_point']\n",
    "        end_point = vector['end_point']\n",
    "        cv.line(vectors_map, start_point, end_point, color = (255,255,255), thickness = 1)\n",
    "    return vectors_map\n",
    "        "
   ]
  },
  {
   "cell_type": "code",
   "execution_count": 46,
   "metadata": {},
   "outputs": [
    {
     "data": {
      "text/plain": [
       "<matplotlib.image.AxesImage at 0x1c26a39ad00>"
      ]
     },
     "execution_count": 46,
     "metadata": {},
     "output_type": "execute_result"
    },
    {
     "data": {
      "image/png": "[encoded data removed]",
      "text/plain": [
       "<Figure size 640x480 with 1 Axes>"
      ]
     },
     "metadata": {},
     "output_type": "display_data"
    }
   ],
   "source": [
    "block_size = 16\n",
    "img_size = (320,320)\n",
    "frame1 = cv.imread('frame1.jpg', 0)\n",
    "frame2 = cv.imread('frame2.jpg', 0)\n",
    "\n",
    "frame1 = cv.resize(frame1, img_size)\n",
    "frame2 = cv.resize(frame2, img_size)\n",
    "\n",
    "\n",
    "blocks = split_image_into_blocks(frame2, block_size)\n",
    "vector = sliding_window_blocks(frame1, blocks)\n",
    "map = visualize_motion_vectors(frame1, vector)\n",
    "plt.imshow(map, 'gray')"
   ]
  },
  {
   "cell_type": "code",
   "execution_count": 34,
   "metadata": {},
   "outputs": [],
   "source": [
    "block = split_image_into_blocks(b, 8)\n",
    "vector = sliding_window_blocks(a, block)"
   ]
  }
 ],
 "metadata": {
  "kernelspec": {
   "display_name": "venv",
   "language": "python",
   "name": "python3"
  },
  "language_info": {
   "codemirror_mode": {
    "name": "ipython",
    "version": 3
   },
   "file_extension": ".py",
   "mimetype": "text/x-python",
   "name": "python",
   "nbconvert_exporter": "python",
   "pygments_lexer": "ipython3",
   "version": "3.8.10"
  },
  "orig_nbformat": 4
 },
 "nbformat": 4,
 "nbformat_minor": 2
}
